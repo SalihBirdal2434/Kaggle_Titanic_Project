{
 "cells": [
  {
   "cell_type": "code",
   "execution_count": 13,
   "id": "e47b42d9-f213-466a-9f9d-eba97b0dda0c",
   "metadata": {
    "jupyter": {
     "source_hidden": true
    },
    "tags": []
   },
   "outputs": [],
   "source": [
    "import numpy as np\n",
    "import pandas as pd\n",
    "import seaborn as sns\n",
    "from matplotlib import pyplot as plt\n",
    "import warnings\n",
    "\n",
    "warnings.simplefilter(action=\"ignore\", category=Warning)\n",
    "\n",
    "pd.set_option('display.max_columns', None)\n",
    "pd.set_option('display.width', None)\n",
    "pd.set_option('display.max_rows', None)\n",
    "pd.set_option('display.float_format', lambda x: '%.3f' % x)"
   ]
  },
  {
   "cell_type": "markdown",
   "id": "19a98931-7beb-4077-a294-842fd25cabe4",
   "metadata": {
    "jp-MarkdownHeadingCollapsed": true,
    "tags": []
   },
   "source": [
    "# Data Analysis"
   ]
  },
  {
   "cell_type": "code",
   "execution_count": 14,
   "id": "7aa4e596-c83a-4838-85c4-4101a8224d45",
   "metadata": {
    "tags": []
   },
   "outputs": [],
   "source": [
    "# İmport işlemi yapılırken hata verebilir bu kısmı veriniz bilgisayarda hangi konumdaysa ona göre tekrardan yazın"
   ]
  },
  {
   "cell_type": "code",
   "execution_count": 15,
   "id": "bf0047b5-b499-4b6e-a060-3e4a8ca1bd73",
   "metadata": {
    "tags": []
   },
   "outputs": [],
   "source": [
    "dataframe = pd.read_csv(\"train.csv\")\n",
    "dataframe_test = pd.read_csv(\"test.csv\")\n",
    "\n",
    "all_data = [dataframe, dataframe_test]"
   ]
  },
  {
   "cell_type": "code",
   "execution_count": 16,
   "id": "12235b95-d619-4817-98fa-1a8c6d307337",
   "metadata": {
    "tags": []
   },
   "outputs": [],
   "source": [
    "# Veri setine genel bakış"
   ]
  },
  {
   "cell_type": "code",
   "execution_count": 29,
   "id": "8594b3d8-025e-44ca-b4c7-8fc4074a98f9",
   "metadata": {
    "tags": []
   },
   "outputs": [
    {
     "name": "stdout",
     "output_type": "stream",
     "text": [
      "####################  Shape  ####################\n",
      "(891, 12)\n",
      "####################  Types  ####################\n",
      "PassengerId      int64\n",
      "Survived         int64\n",
      "Pclass           int64\n",
      "Name            object\n",
      "Sex             object\n",
      "Age            float64\n",
      "SibSp            int64\n",
      "Parch            int64\n",
      "Ticket          object\n",
      "Fare           float64\n",
      "Cabin           object\n",
      "Embarked        object\n",
      "dtype: object\n",
      "####################  Head  ####################\n",
      "   PassengerId  Survived  Pclass  \\\n",
      "0            1         0       3   \n",
      "1            2         1       1   \n",
      "2            3         1       3   \n",
      "3            4         1       1   \n",
      "4            5         0       3   \n",
      "\n",
      "                                                Name     Sex    Age  SibSp  \\\n",
      "0                            Braund, Mr. Owen Harris    male 22.000      1   \n",
      "1  Cumings, Mrs. John Bradley (Florence Briggs Th...  female 38.000      1   \n",
      "2                             Heikkinen, Miss. Laina  female 26.000      0   \n",
      "3       Futrelle, Mrs. Jacques Heath (Lily May Peel)  female 35.000      1   \n",
      "4                           Allen, Mr. William Henry    male 35.000      0   \n",
      "\n",
      "   Parch            Ticket   Fare Cabin Embarked  \n",
      "0      0         A/5 21171  7.250   NaN        S  \n",
      "1      0          PC 17599 71.283   C85        C  \n",
      "2      0  STON/O2. 3101282  7.925   NaN        S  \n",
      "3      0            113803 53.100  C123        S  \n",
      "4      0            373450  8.050   NaN        S  \n",
      "####################  Tail  ####################\n",
      "     PassengerId  Survived  Pclass                                      Name  \\\n",
      "886          887         0       2                     Montvila, Rev. Juozas   \n",
      "887          888         1       1              Graham, Miss. Margaret Edith   \n",
      "888          889         0       3  Johnston, Miss. Catherine Helen \"Carrie\"   \n",
      "889          890         1       1                     Behr, Mr. Karl Howell   \n",
      "890          891         0       3                       Dooley, Mr. Patrick   \n",
      "\n",
      "        Sex    Age  SibSp  Parch      Ticket   Fare Cabin Embarked  \n",
      "886    male 27.000      0      0      211536 13.000   NaN        S  \n",
      "887  female 19.000      0      0      112053 30.000   B42        S  \n",
      "888  female    NaN      1      2  W./C. 6607 23.450   NaN        S  \n",
      "889    male 26.000      0      0      111369 30.000  C148        C  \n",
      "890    male 32.000      0      0      370376  7.750   NaN        Q  \n",
      "####################  NA  ####################\n"
     ]
    }
   ],
   "source": [
    "print(\"#\"*20, \" Shape \", \"#\"*20)\n",
    "print(dataframe.shape)\n",
    "print(\"#\"*20, \" Types \", \"#\"*20)\n",
    "print(dataframe.dtypes)\n",
    "print(\"#\"*20, \" Head \", \"#\"*20)\n",
    "print(dataframe.head())\n",
    "print(\"#\"*20, \" Tail \", \"#\"*20)\n",
    "print(dataframe.tail())\n",
    "print(\"#\"*20, \" NA \", \"#\"*20)\n"
   ]
  },
  {
   "cell_type": "code",
   "execution_count": null,
   "id": "6974e0a6-b391-472a-9cd9-9033836f7752",
   "metadata": {
    "tags": []
   },
   "outputs": [],
   "source": [
    "# Değişken analizi"
   ]
  },
  {
   "cell_type": "code",
   "execution_count": 30,
   "id": "53b08c36-7aca-4412-850b-d65839f56db8",
   "metadata": {
    "tags": []
   },
   "outputs": [
    {
     "name": "stdout",
     "output_type": "stream",
     "text": [
      "Observations: 891\n",
      "Variables: 12\n",
      "cat_cols: 6 col names: ['Sex', 'Embarked', 'Survived', 'Pclass', 'SibSp', 'Parch']\n",
      "num_cols: 3 col names: ['PassengerId', 'Age', 'Fare']\n",
      "cat_but_car: 3 col names: ['Name', 'Ticket', 'Cabin']\n",
      "num_but_cat: 4 col names: ['Survived', 'Pclass', 'SibSp', 'Parch']\n"
     ]
    }
   ],
   "source": [
    "# Değişkenlerin saklanması\n",
    "cat_cols = [col for col in dataframe.columns if dataframe[col].dtypes == \"O\"]\n",
    "num_but_cat = [col for col in dataframe.columns if dataframe[col].nunique() < 10 and dataframe[col].dtypes != \"O\"]\n",
    "    \n",
    "cat_but_car = [col for col in dataframe.columns if dataframe[col].nunique() > 20 and dataframe[col].dtypes == \"O\"]\n",
    "    \n",
    "cat_cols = cat_cols + num_but_cat\n",
    "cat_cols = [col for col in cat_cols if col not in cat_but_car]\n",
    "    \n",
    "# num_cols\n",
    "num_cols = [col for col in dataframe.columns if dataframe[col].dtypes != \"O\"]\n",
    "num_cols = [col for col in num_cols if col not in num_but_cat]\n",
    "    \n",
    "cols = [dataframe.columns]\n",
    "print(f'Observations: {dataframe.shape[0]}')\n",
    "print(f'Variables: {dataframe.shape[1]}')\n",
    "print(f'cat_cols: {len(cat_cols)} col names: {cat_cols}')\n",
    "print(f'num_cols: {len(num_cols)} col names: {num_cols}')\n",
    "print(f'cat_but_car: {len(cat_but_car)} col names: {cat_but_car}')\n",
    "print(f'num_but_cat: {len(num_but_cat)} col names: {num_but_cat}')"
   ]
  },
  {
   "cell_type": "code",
   "execution_count": null,
   "id": "b22a20b5-d7a3-4a7c-8472-e4cf7afed2f3",
   "metadata": {
    "tags": []
   },
   "outputs": [],
   "source": [
    "# Kategorik değişkenlerin analizi"
   ]
  },
  {
   "cell_type": "code",
   "execution_count": 31,
   "id": "313be24d-e825-4730-a00d-b095666ca1d9",
   "metadata": {
    "tags": []
   },
   "outputs": [
    {
     "name": "stdout",
     "output_type": "stream",
     "text": [
      "        Sex  Ratio\n",
      "Sex               \n",
      "male    577 64.759\n",
      "female  314 35.241\n",
      "####################\n",
      "          Embarked  Ratio\n",
      "Embarked                 \n",
      "S              644 72.278\n",
      "C              168 18.855\n",
      "Q               77  8.642\n",
      "####################\n",
      "          Survived  Ratio\n",
      "Survived                 \n",
      "0              549 61.616\n",
      "1              342 38.384\n",
      "####################\n",
      "        Pclass  Ratio\n",
      "Pclass               \n",
      "3          491 55.107\n",
      "1          216 24.242\n",
      "2          184 20.651\n",
      "####################\n",
      "       SibSp  Ratio\n",
      "SibSp              \n",
      "0        608 68.238\n",
      "1        209 23.457\n",
      "2         28  3.143\n",
      "4         18  2.020\n",
      "3         16  1.796\n",
      "8          7  0.786\n",
      "5          5  0.561\n",
      "####################\n",
      "       Parch  Ratio\n",
      "Parch              \n",
      "0        678 76.094\n",
      "1        118 13.244\n",
      "2         80  8.979\n",
      "5          5  0.561\n",
      "3          5  0.561\n",
      "4          4  0.449\n",
      "6          1  0.112\n",
      "####################\n"
     ]
    }
   ],
   "source": [
    "for col_name in dataframe[cat_cols]:\n",
    "    print(pd.DataFrame({col_name: dataframe[col_name].value_counts(),\n",
    "                       \"Ratio\": 100 * dataframe[col_name].value_counts() / len(dataframe)}))\n",
    "    print(\"#\"*20)"
   ]
  },
  {
   "cell_type": "code",
   "execution_count": null,
   "id": "72b63be0-ffc5-41e3-bd91-b070aaa0895a",
   "metadata": {
    "tags": []
   },
   "outputs": [],
   "source": [
    "# Sayısal değişkenlerin describe ile incelenmesi"
   ]
  },
  {
   "cell_type": "code",
   "execution_count": 32,
   "id": "79663480-c9a6-44ee-83cc-ac70edd36ce4",
   "metadata": {
    "tags": []
   },
   "outputs": [
    {
     "data": {
      "text/html": [
       "<div>\n",
       "<style scoped>\n",
       "    .dataframe tbody tr th:only-of-type {\n",
       "        vertical-align: middle;\n",
       "    }\n",
       "\n",
       "    .dataframe tbody tr th {\n",
       "        vertical-align: top;\n",
       "    }\n",
       "\n",
       "    .dataframe thead th {\n",
       "        text-align: right;\n",
       "    }\n",
       "</style>\n",
       "<table border=\"1\" class=\"dataframe\">\n",
       "  <thead>\n",
       "    <tr style=\"text-align: right;\">\n",
       "      <th></th>\n",
       "      <th>count</th>\n",
       "      <th>mean</th>\n",
       "      <th>std</th>\n",
       "      <th>min</th>\n",
       "      <th>25%</th>\n",
       "      <th>50%</th>\n",
       "      <th>75%</th>\n",
       "      <th>max</th>\n",
       "    </tr>\n",
       "  </thead>\n",
       "  <tbody>\n",
       "    <tr>\n",
       "      <th>PassengerId</th>\n",
       "      <td>891.000</td>\n",
       "      <td>446.000</td>\n",
       "      <td>257.354</td>\n",
       "      <td>1.000</td>\n",
       "      <td>223.500</td>\n",
       "      <td>446.000</td>\n",
       "      <td>668.500</td>\n",
       "      <td>891.000</td>\n",
       "    </tr>\n",
       "    <tr>\n",
       "      <th>Age</th>\n",
       "      <td>714.000</td>\n",
       "      <td>29.699</td>\n",
       "      <td>14.526</td>\n",
       "      <td>0.420</td>\n",
       "      <td>20.125</td>\n",
       "      <td>28.000</td>\n",
       "      <td>38.000</td>\n",
       "      <td>80.000</td>\n",
       "    </tr>\n",
       "    <tr>\n",
       "      <th>Fare</th>\n",
       "      <td>891.000</td>\n",
       "      <td>32.204</td>\n",
       "      <td>49.693</td>\n",
       "      <td>0.000</td>\n",
       "      <td>7.910</td>\n",
       "      <td>14.454</td>\n",
       "      <td>31.000</td>\n",
       "      <td>512.329</td>\n",
       "    </tr>\n",
       "  </tbody>\n",
       "</table>\n",
       "</div>"
      ],
      "text/plain": [
       "              count    mean     std   min     25%     50%     75%     max\n",
       "PassengerId 891.000 446.000 257.354 1.000 223.500 446.000 668.500 891.000\n",
       "Age         714.000  29.699  14.526 0.420  20.125  28.000  38.000  80.000\n",
       "Fare        891.000  32.204  49.693 0.000   7.910  14.454  31.000 512.329"
      ]
     },
     "execution_count": 32,
     "metadata": {},
     "output_type": "execute_result"
    }
   ],
   "source": [
    "dataframe[num_cols].describe().T"
   ]
  },
  {
   "cell_type": "code",
   "execution_count": null,
   "id": "6a328177-5559-4fad-ab1d-dae90e85838f",
   "metadata": {
    "tags": []
   },
   "outputs": [],
   "source": [
    "# 0 olan değerlerin saptanması"
   ]
  },
  {
   "cell_type": "code",
   "execution_count": 33,
   "id": "f56d620b-a617-4aa6-a766-a7a0cdb71d7d",
   "metadata": {
    "tags": []
   },
   "outputs": [
    {
     "data": {
      "text/html": [
       "<div>\n",
       "<style scoped>\n",
       "    .dataframe tbody tr th:only-of-type {\n",
       "        vertical-align: middle;\n",
       "    }\n",
       "\n",
       "    .dataframe tbody tr th {\n",
       "        vertical-align: top;\n",
       "    }\n",
       "\n",
       "    .dataframe thead th {\n",
       "        text-align: right;\n",
       "    }\n",
       "</style>\n",
       "<table border=\"1\" class=\"dataframe\">\n",
       "  <thead>\n",
       "    <tr style=\"text-align: right;\">\n",
       "      <th></th>\n",
       "      <th>zero_counts</th>\n",
       "    </tr>\n",
       "  </thead>\n",
       "  <tbody>\n",
       "    <tr>\n",
       "      <th>Age</th>\n",
       "      <td>0</td>\n",
       "    </tr>\n",
       "    <tr>\n",
       "      <th>Fare</th>\n",
       "      <td>15</td>\n",
       "    </tr>\n",
       "  </tbody>\n",
       "</table>\n",
       "</div>"
      ],
      "text/plain": [
       "      zero_counts\n",
       "Age             0\n",
       "Fare           15"
      ]
     },
     "execution_count": 33,
     "metadata": {},
     "output_type": "execute_result"
    }
   ],
   "source": [
    "zero_counts = pd.DataFrame(dataframe[num_cols].apply(lambda col: (col == 0).sum()), columns=[\"zero_counts\"]).iloc[1:6]\n",
    "zero_counts"
   ]
  },
  {
   "cell_type": "code",
   "execution_count": null,
   "id": "38590a7c-627d-42b3-840a-3779cc0b8526",
   "metadata": {
    "tags": []
   },
   "outputs": [],
   "source": [
    "# Sayısal değişkenlerin analizi"
   ]
  },
  {
   "cell_type": "code",
   "execution_count": 34,
   "id": "bbe71471-8b9e-485a-9892-629a49ffc995",
   "metadata": {
    "tags": []
   },
   "outputs": [
    {
     "name": "stdout",
     "output_type": "stream",
     "text": [
      "              count    mean     std   min     5%    10%     20%     30%  \\\n",
      "PassengerId 891.000 446.000 257.354 1.000 45.500 90.000 179.000 268.000   \n",
      "\n",
      "                40%     50%     60%     70%     90%     95%     99%     max  \n",
      "PassengerId 357.000 446.000 535.000 624.000 802.000 846.500 882.100 891.000  \n"
     ]
    },
    {
     "data": {
      "image/png": "[encoded data removed]",
      "text/plain": [
       "<Figure size 640x480 with 1 Axes>"
      ]
     },
     "metadata": {},
     "output_type": "display_data"
    },
    {
     "name": "stdout",
     "output_type": "stream",
     "text": [
      "      count   mean    std   min    5%    10%    20%    30%    40%    50%  \\\n",
      "Age 714.000 29.699 14.526 0.420 4.000 14.000 19.000 22.000 25.000 28.000   \n",
      "\n",
      "       60%    70%    90%    95%    99%    max  \n",
      "Age 31.800 36.000 50.000 56.000 65.870 80.000  \n"
     ]
    },
    {
     "data": {
      "image/png": "[encoded data removed]",
      "text/plain": [
       "<Figure size 640x480 with 1 Axes>"
      ]
     },
     "metadata": {},
     "output_type": "display_data"
    },
    {
     "name": "stdout",
     "output_type": "stream",
     "text": [
      "       count   mean    std   min    5%   10%   20%   30%    40%    50%    60%  \\\n",
      "Fare 891.000 32.204 49.693 0.000 7.225 7.550 7.854 8.050 10.500 14.454 21.679   \n",
      "\n",
      "        70%    90%     95%     99%     max  \n",
      "Fare 27.000 77.958 112.079 249.006 512.329  \n"
     ]
    },
    {
     "data": {
      "image/png": "[encoded data removed]",
      "text/plain": [
       "<Figure size 640x480 with 1 Axes>"
      ]
     },
     "metadata": {},
     "output_type": "display_data"
    }
   ],
   "source": [
    "for col_name in dataframe[num_cols]:\n",
    "    quantiles = [0.05, 0.10, 0.20, 0.30, 0.40, 0.50, 0.60, 0.70, 0.90, 0.95, 0.99]\n",
    "    print(pd.DataFrame(dataframe[col_name].describe(quantiles)).T)\n",
    "    \n",
    "    g = sns.histplot(x=dataframe[col_name],\n",
    "                        data=dataframe,\n",
    "                        bins=20)\n",
    "    g.set_title(col_name)\n",
    "    g.set(xlabel=col_name)\n",
    "    plt.show()"
   ]
  },
  {
   "cell_type": "code",
   "execution_count": null,
   "id": "a5803deb-6451-4364-9c2f-80df0d719f2e",
   "metadata": {
    "tags": []
   },
   "outputs": [],
   "source": [
    "# Outlier analizi"
   ]
  },
  {
   "cell_type": "code",
   "execution_count": 35,
   "id": "e1c3c78d-4e33-4f90-af6c-ac59599b5905",
   "metadata": {
    "tags": []
   },
   "outputs": [
    {
     "name": "stdout",
     "output_type": "stream",
     "text": [
      "{'PassengerId'} : Outlier yok\n",
      "{'Age'} : Outlier yok\n",
      "{'Fare'} : Outlier yok\n"
     ]
    }
   ],
   "source": [
    "q1 = 0.01\n",
    "q3 = 0.99\n",
    "for col_name in dataframe[num_cols]:\n",
    "    quartile1 = dataframe[col_name].quantile(q1)\n",
    "    quartile3 = dataframe[col_name].quantile(q3)\n",
    "    interquartile_range = quartile3 - quartile1\n",
    "    up_limit = quartile3 + interquartile_range * 1.5\n",
    "    low_limit = quartile1 - interquartile_range * 1.5\n",
    "    if dataframe[(dataframe[col_name] > up_limit) | (dataframe[col_name] < low_limit)].any(axis=None):\n",
    "        print({col_name}, \": Outlier var\")\n",
    "    else:\n",
    "        print({col_name}, \": Outlier yok\")"
   ]
  },
  {
   "cell_type": "code",
   "execution_count": null,
   "id": "bee72d70-6069-4dad-81d5-a54dc01f563d",
   "metadata": {
    "tags": []
   },
   "outputs": [],
   "source": [
    "# Hedef değişken ve korelasyon analizi"
   ]
  },
  {
   "cell_type": "code",
   "execution_count": 36,
   "id": "7de2000f-6913-4984-b1ac-999540ae3272",
   "metadata": {
    "tags": []
   },
   "outputs": [
    {
     "name": "stdout",
     "output_type": "stream",
     "text": [
      "          PassengerId\n",
      "Survived             \n",
      "0             447.016\n",
      "1             444.368\n",
      "\n",
      "\n",
      "            Age\n",
      "Survived       \n",
      "0        30.626\n",
      "1        28.344\n",
      "\n",
      "\n",
      "           Fare\n",
      "Survived       \n",
      "0        22.118\n",
      "1        48.395\n",
      "\n",
      "\n",
      "################################################## \n",
      "\n",
      "\n",
      "        TARGET_MEAN\n",
      "Sex                \n",
      "female        0.742\n",
      "male          0.189\n",
      "\n",
      "\n",
      "          TARGET_MEAN\n",
      "Embarked             \n",
      "C               0.554\n",
      "Q               0.390\n",
      "S               0.337\n",
      "\n",
      "\n",
      "          TARGET_MEAN\n",
      "Survived             \n",
      "0               0.000\n",
      "1               1.000\n",
      "\n",
      "\n",
      "        TARGET_MEAN\n",
      "Pclass             \n",
      "1             0.630\n",
      "2             0.473\n",
      "3             0.242\n",
      "\n",
      "\n",
      "       TARGET_MEAN\n",
      "SibSp             \n",
      "0            0.345\n",
      "1            0.536\n",
      "2            0.464\n",
      "3            0.250\n",
      "4            0.167\n",
      "5            0.000\n",
      "8            0.000\n",
      "\n",
      "\n",
      "       TARGET_MEAN\n",
      "Parch             \n",
      "0            0.344\n",
      "1            0.551\n",
      "2            0.500\n",
      "3            0.600\n",
      "4            0.000\n",
      "5            0.200\n",
      "6            0.000\n",
      "\n",
      "\n"
     ]
    }
   ],
   "source": [
    "# Nümerik değişkenlerin target'a göre ortalamaları\n",
    "for numerical_col in num_cols:    \n",
    "    print(dataframe.groupby(\"Survived\").agg({numerical_col: \"mean\"}), end=\"\\n\\n\\n\")\n",
    "print(\"#\"*50, \"\\n\\n\")\n",
    "for categorical_col in cat_cols:\n",
    "    print(pd.DataFrame({\"TARGET_MEAN\": dataframe.groupby(categorical_col)[\"Survived\"].mean()}), end=\"\\n\\n\\n\")"
   ]
  },
  {
   "cell_type": "code",
   "execution_count": null,
   "id": "02365981-97fd-4257-99b3-cd4ff549f78b",
   "metadata": {
    "tags": []
   },
   "outputs": [],
   "source": [
    "# Korelasyon analizi"
   ]
  },
  {
   "cell_type": "code",
   "execution_count": 39,
   "id": "e31eba46-10ae-4904-b03c-f8b79b4f8500",
   "metadata": {
    "tags": []
   },
   "outputs": [
    {
     "data": {
      "image/png": "[encoded data removed]",
      "text/plain": [
       "<Figure size 800x600 with 2 Axes>"
      ]
     },
     "metadata": {},
     "output_type": "display_data"
    }
   ],
   "source": [
    "#Sayısal değişkenlerin heatmap ile korelasyon grafiğinin oluşturulması\n",
    "liste_1=dataframe[[\"Survived\",\"Pclass\",\"Age\",\"SibSp\",\"Parch\",\"Fare\"]]\n",
    "correlation_matrix = liste_1.corr()\n",
    "plt.figure(figsize=(8, 6))\n",
    "sns.heatmap(correlation_matrix, annot=True, cmap=\"coolwarm\", fmt=\".2f\", linewidths=0.5)\n",
    "plt.title(\"Korelasyon Matrisi\")\n",
    "plt.show()"
   ]
  },
  {
   "cell_type": "code",
   "execution_count": null,
   "id": "2dc32b31-7865-4250-a16f-30614f0a240e",
   "metadata": {
    "tags": []
   },
   "outputs": [],
   "source": [
    "# Fare x Pclass korelasyonu yüksek sayılabilir"
   ]
  },
  {
   "cell_type": "markdown",
   "id": "ff4cb047",
   "metadata": {
    "tags": []
   },
   "source": [
    "# Feature Engineering"
   ]
  },
  {
   "cell_type": "code",
   "execution_count": 40,
   "id": "5ce680f2",
   "metadata": {},
   "outputs": [
    {
     "data": {
      "text/plain": [
       "True"
      ]
     },
     "execution_count": 40,
     "metadata": {},
     "output_type": "execute_result"
    }
   ],
   "source": [
    "#Null değerler train dosyasında var mı diye sorguluyorum.\n",
    "dataframe.isnull().values.any()"
   ]
  },
  {
   "cell_type": "code",
   "execution_count": 41,
   "id": "abb082ae",
   "metadata": {},
   "outputs": [
    {
     "data": {
      "text/plain": [
       "True"
      ]
     },
     "execution_count": 41,
     "metadata": {},
     "output_type": "execute_result"
    }
   ],
   "source": [
    "dataframe_test.isnull().values.any()"
   ]
  },
  {
   "cell_type": "code",
   "execution_count": 42,
   "id": "e057e691",
   "metadata": {},
   "outputs": [
    {
     "data": {
      "text/plain": [
       "Cabin          687\n",
       "Age            177\n",
       "Embarked         2\n",
       "PassengerId      0\n",
       "Survived         0\n",
       "Pclass           0\n",
       "Name             0\n",
       "Sex              0\n",
       "SibSp            0\n",
       "Parch            0\n",
       "Ticket           0\n",
       "Fare             0\n",
       "dtype: int64"
      ]
     },
     "execution_count": 42,
     "metadata": {},
     "output_type": "execute_result"
    }
   ],
   "source": [
    "#Null(eksik) değerlerin sayısını bulma.\n",
    "dataframe.isnull().sum().sort_values(ascending=False)"
   ]
  },
  {
   "cell_type": "code",
   "execution_count": 43,
   "id": "8fbab884",
   "metadata": {},
   "outputs": [
    {
     "data": {
      "text/plain": [
       "Cabin          327\n",
       "Age             86\n",
       "Fare             1\n",
       "PassengerId      0\n",
       "Pclass           0\n",
       "Name             0\n",
       "Sex              0\n",
       "SibSp            0\n",
       "Parch            0\n",
       "Ticket           0\n",
       "Embarked         0\n",
       "dtype: int64"
      ]
     },
     "execution_count": 43,
     "metadata": {},
     "output_type": "execute_result"
    }
   ],
   "source": [
    "dataframe_test.isnull().sum().sort_values(ascending=False)"
   ]
  },
  {
   "cell_type": "code",
   "execution_count": 44,
   "id": "5c5fcecd",
   "metadata": {},
   "outputs": [
    {
     "name": "stdout",
     "output_type": "stream",
     "text": [
      "The percent of NaN in the Cabin column is: 77.10437710437711\n",
      "The percent of NaN in the Age column is: 19.865319865319865\n",
      "The percent of NaN in the Embarked column is: 0.22446689113355783\n"
     ]
    }
   ],
   "source": [
    "#dataframe(train dosyası).\n",
    "print(f'The percent of NaN in the Cabin column is: {dataframe[\"Cabin\"].isnull().sum() / dataframe.shape[0]* 100}')\n",
    "print(f'The percent of NaN in the Age column is: {dataframe[\"Age\"].isnull().sum() / dataframe.shape[0]* 100}')\n",
    "print(f'The percent of NaN in the Embarked column is: {dataframe[\"Embarked\"].isnull().sum() / dataframe.shape[0]* 100}')"
   ]
  },
  {
   "cell_type": "code",
   "execution_count": 45,
   "id": "61d2a5e2",
   "metadata": {},
   "outputs": [
    {
     "name": "stdout",
     "output_type": "stream",
     "text": [
      "The percent of NaN in the Cabin column is: 78.22966507177034\n",
      "The percent of NaN in the Age column is: 20.574162679425836\n"
     ]
    }
   ],
   "source": [
    "print(f'The percent of NaN in the Cabin column is: {dataframe_test[\"Cabin\"].isnull().sum() / dataframe_test.shape[0]* 100}')\n",
    "print(f'The percent of NaN in the Age column is: {dataframe_test[\"Age\"].isnull().sum() / dataframe_test.shape[0]* 100}')"
   ]
  },
  {
   "cell_type": "code",
   "execution_count": 46,
   "id": "399f4d74",
   "metadata": {},
   "outputs": [
    {
     "data": {
      "text/plain": [
       "count     889\n",
       "unique      3\n",
       "top         S\n",
       "freq      644\n",
       "Name: Embarked, dtype: object"
      ]
     },
     "execution_count": 46,
     "metadata": {},
     "output_type": "execute_result"
    }
   ],
   "source": [
    "dataframe[\"Embarked\"].describe()"
   ]
  },
  {
   "cell_type": "code",
   "execution_count": 47,
   "id": "ccd42984",
   "metadata": {},
   "outputs": [],
   "source": [
    "#mode özelliğini kullanarak 2 eksik veriyi doldurduk.\n",
    "mode_embarked = dataframe['Embarked'].mode()[0]\n",
    "dataframe['Embarked'].fillna(mode_embarked, inplace=True)"
   ]
  },
  {
   "cell_type": "code",
   "execution_count": 48,
   "id": "08514ea5",
   "metadata": {},
   "outputs": [
    {
     "data": {
      "text/plain": [
       "Cabin          687\n",
       "Age            177\n",
       "PassengerId      0\n",
       "Survived         0\n",
       "Pclass           0\n",
       "Name             0\n",
       "Sex              0\n",
       "SibSp            0\n",
       "Parch            0\n",
       "Ticket           0\n",
       "Fare             0\n",
       "Embarked         0\n",
       "dtype: int64"
      ]
     },
     "execution_count": 48,
     "metadata": {},
     "output_type": "execute_result"
    }
   ],
   "source": [
    "dataframe.isnull().sum().sort_values(ascending=False)"
   ]
  },
  {
   "cell_type": "code",
   "execution_count": 49,
   "id": "6b4a23e8",
   "metadata": {},
   "outputs": [],
   "source": [
    "#Age sütunundaki eksik verileri doldurmak için mean özelliğini kullandık.\n",
    "#Bunu ise Age sütununun ortalamasını (Mean) alarak yaptık.\n",
    "dataframe[\"Age\"].fillna(dataframe[\"Age\"].mean(),inplace=True)\n",
    "dataframe_test[\"Age\"].fillna(dataframe_test[\"Age\"].mean(),inplace=True)"
   ]
  },
  {
   "cell_type": "code",
   "execution_count": 50,
   "id": "00edd3e8",
   "metadata": {},
   "outputs": [
    {
     "data": {
      "text/plain": [
       "0"
      ]
     },
     "execution_count": 50,
     "metadata": {},
     "output_type": "execute_result"
    }
   ],
   "source": [
    "dataframe[\"Age\"].isnull().sum()"
   ]
  },
  {
   "cell_type": "code",
   "execution_count": 51,
   "id": "84d93b00",
   "metadata": {},
   "outputs": [
    {
     "data": {
      "text/plain": [
       "Cabin          687\n",
       "PassengerId      0\n",
       "Survived         0\n",
       "Pclass           0\n",
       "Name             0\n",
       "Sex              0\n",
       "Age              0\n",
       "SibSp            0\n",
       "Parch            0\n",
       "Ticket           0\n",
       "Fare             0\n",
       "Embarked         0\n",
       "dtype: int64"
      ]
     },
     "execution_count": 51,
     "metadata": {},
     "output_type": "execute_result"
    }
   ],
   "source": [
    "#Age sütunundaki eksik verileri doldurduk ve age sütunun da hiç eksik veri kalmadı.\n",
    "dataframe.isnull().sum().sort_values(ascending=False)"
   ]
  },
  {
   "cell_type": "code",
   "execution_count": 52,
   "id": "f80f87af",
   "metadata": {},
   "outputs": [
    {
     "data": {
      "text/plain": [
       "Cabin          327\n",
       "Fare             1\n",
       "PassengerId      0\n",
       "Pclass           0\n",
       "Name             0\n",
       "Sex              0\n",
       "Age              0\n",
       "SibSp            0\n",
       "Parch            0\n",
       "Ticket           0\n",
       "Embarked         0\n",
       "dtype: int64"
      ]
     },
     "execution_count": 52,
     "metadata": {},
     "output_type": "execute_result"
    }
   ],
   "source": [
    "dataframe_test.isnull().sum().sort_values(ascending=False)"
   ]
  },
  {
   "cell_type": "code",
   "execution_count": 53,
   "id": "901b5bdd",
   "metadata": {},
   "outputs": [],
   "source": [
    "#Eğer bir sütundaki boş değer sayısı veri setinin %30 - %40´ından fazla ise sütun silinebilir.\n",
    "#Cabin sütununda ki eksik veri %77 çok fazla eksik veri olduğu için sütunu sildim.\n",
    "#dataframe_test sütununda ki veri %78 çok fazla olduğu için sildim.\n",
    "dataframe.drop('Cabin', axis=1, inplace=True)\n",
    "dataframe_test.drop('Cabin', axis=1, inplace=True)"
   ]
  },
  {
   "cell_type": "code",
   "execution_count": 54,
   "id": "d6220652",
   "metadata": {},
   "outputs": [
    {
     "data": {
      "text/plain": [
       "PassengerId    0\n",
       "Survived       0\n",
       "Pclass         0\n",
       "Name           0\n",
       "Sex            0\n",
       "Age            0\n",
       "SibSp          0\n",
       "Parch          0\n",
       "Ticket         0\n",
       "Fare           0\n",
       "Embarked       0\n",
       "dtype: int64"
      ]
     },
     "execution_count": 54,
     "metadata": {},
     "output_type": "execute_result"
    }
   ],
   "source": [
    "dataframe.isnull().sum().sort_values(ascending=False)"
   ]
  },
  {
   "cell_type": "code",
   "execution_count": 55,
   "id": "30a1f2b6",
   "metadata": {},
   "outputs": [
    {
     "data": {
      "text/html": [
       "<div>\n",
       "<style scoped>\n",
       "    .dataframe tbody tr th:only-of-type {\n",
       "        vertical-align: middle;\n",
       "    }\n",
       "\n",
       "    .dataframe tbody tr th {\n",
       "        vertical-align: top;\n",
       "    }\n",
       "\n",
       "    .dataframe thead th {\n",
       "        text-align: right;\n",
       "    }\n",
       "</style>\n",
       "<table border=\"1\" class=\"dataframe\">\n",
       "  <thead>\n",
       "    <tr style=\"text-align: right;\">\n",
       "      <th></th>\n",
       "      <th>PassengerId</th>\n",
       "      <th>Survived</th>\n",
       "      <th>Pclass</th>\n",
       "      <th>Name</th>\n",
       "      <th>Sex</th>\n",
       "      <th>Age</th>\n",
       "      <th>SibSp</th>\n",
       "      <th>Parch</th>\n",
       "      <th>Ticket</th>\n",
       "      <th>Fare</th>\n",
       "      <th>Embarked</th>\n",
       "    </tr>\n",
       "  </thead>\n",
       "  <tbody>\n",
       "    <tr>\n",
       "      <th>0</th>\n",
       "      <td>1</td>\n",
       "      <td>0</td>\n",
       "      <td>3</td>\n",
       "      <td>Braund, Mr. Owen Harris</td>\n",
       "      <td>male</td>\n",
       "      <td>22.000</td>\n",
       "      <td>1</td>\n",
       "      <td>0</td>\n",
       "      <td>A/5 21171</td>\n",
       "      <td>7.250</td>\n",
       "      <td>S</td>\n",
       "    </tr>\n",
       "    <tr>\n",
       "      <th>1</th>\n",
       "      <td>2</td>\n",
       "      <td>1</td>\n",
       "      <td>1</td>\n",
       "      <td>Cumings, Mrs. John Bradley (Florence Briggs Th...</td>\n",
       "      <td>female</td>\n",
       "      <td>38.000</td>\n",
       "      <td>1</td>\n",
       "      <td>0</td>\n",
       "      <td>PC 17599</td>\n",
       "      <td>71.283</td>\n",
       "      <td>C</td>\n",
       "    </tr>\n",
       "    <tr>\n",
       "      <th>2</th>\n",
       "      <td>3</td>\n",
       "      <td>1</td>\n",
       "      <td>3</td>\n",
       "      <td>Heikkinen, Miss. Laina</td>\n",
       "      <td>female</td>\n",
       "      <td>26.000</td>\n",
       "      <td>0</td>\n",
       "      <td>0</td>\n",
       "      <td>STON/O2. 3101282</td>\n",
       "      <td>7.925</td>\n",
       "      <td>S</td>\n",
       "    </tr>\n",
       "    <tr>\n",
       "      <th>3</th>\n",
       "      <td>4</td>\n",
       "      <td>1</td>\n",
       "      <td>1</td>\n",
       "      <td>Futrelle, Mrs. Jacques Heath (Lily May Peel)</td>\n",
       "      <td>female</td>\n",
       "      <td>35.000</td>\n",
       "      <td>1</td>\n",
       "      <td>0</td>\n",
       "      <td>113803</td>\n",
       "      <td>53.100</td>\n",
       "      <td>S</td>\n",
       "    </tr>\n",
       "    <tr>\n",
       "      <th>4</th>\n",
       "      <td>5</td>\n",
       "      <td>0</td>\n",
       "      <td>3</td>\n",
       "      <td>Allen, Mr. William Henry</td>\n",
       "      <td>male</td>\n",
       "      <td>35.000</td>\n",
       "      <td>0</td>\n",
       "      <td>0</td>\n",
       "      <td>373450</td>\n",
       "      <td>8.050</td>\n",
       "      <td>S</td>\n",
       "    </tr>\n",
       "  </tbody>\n",
       "</table>\n",
       "</div>"
      ],
      "text/plain": [
       "   PassengerId  Survived  Pclass  \\\n",
       "0            1         0       3   \n",
       "1            2         1       1   \n",
       "2            3         1       3   \n",
       "3            4         1       1   \n",
       "4            5         0       3   \n",
       "\n",
       "                                                Name     Sex    Age  SibSp  \\\n",
       "0                            Braund, Mr. Owen Harris    male 22.000      1   \n",
       "1  Cumings, Mrs. John Bradley (Florence Briggs Th...  female 38.000      1   \n",
       "2                             Heikkinen, Miss. Laina  female 26.000      0   \n",
       "3       Futrelle, Mrs. Jacques Heath (Lily May Peel)  female 35.000      1   \n",
       "4                           Allen, Mr. William Henry    male 35.000      0   \n",
       "\n",
       "   Parch            Ticket   Fare Embarked  \n",
       "0      0         A/5 21171  7.250        S  \n",
       "1      0          PC 17599 71.283        C  \n",
       "2      0  STON/O2. 3101282  7.925        S  \n",
       "3      0            113803 53.100        S  \n",
       "4      0            373450  8.050        S  "
      ]
     },
     "execution_count": 55,
     "metadata": {},
     "output_type": "execute_result"
    }
   ],
   "source": [
    "#Cabin sütunu dataframeden çıkarıldı.(train dosyası)\n",
    "dataframe.head()"
   ]
  },
  {
   "cell_type": "code",
   "execution_count": 56,
   "id": "c0327136",
   "metadata": {},
   "outputs": [
    {
     "data": {
      "text/html": [
       "<div>\n",
       "<style scoped>\n",
       "    .dataframe tbody tr th:only-of-type {\n",
       "        vertical-align: middle;\n",
       "    }\n",
       "\n",
       "    .dataframe tbody tr th {\n",
       "        vertical-align: top;\n",
       "    }\n",
       "\n",
       "    .dataframe thead th {\n",
       "        text-align: right;\n",
       "    }\n",
       "</style>\n",
       "<table border=\"1\" class=\"dataframe\">\n",
       "  <thead>\n",
       "    <tr style=\"text-align: right;\">\n",
       "      <th></th>\n",
       "      <th>PassengerId</th>\n",
       "      <th>Pclass</th>\n",
       "      <th>Name</th>\n",
       "      <th>Sex</th>\n",
       "      <th>Age</th>\n",
       "      <th>SibSp</th>\n",
       "      <th>Parch</th>\n",
       "      <th>Ticket</th>\n",
       "      <th>Fare</th>\n",
       "      <th>Embarked</th>\n",
       "    </tr>\n",
       "  </thead>\n",
       "  <tbody>\n",
       "    <tr>\n",
       "      <th>0</th>\n",
       "      <td>892</td>\n",
       "      <td>3</td>\n",
       "      <td>Kelly, Mr. James</td>\n",
       "      <td>male</td>\n",
       "      <td>34.500</td>\n",
       "      <td>0</td>\n",
       "      <td>0</td>\n",
       "      <td>330911</td>\n",
       "      <td>7.829</td>\n",
       "      <td>Q</td>\n",
       "    </tr>\n",
       "    <tr>\n",
       "      <th>1</th>\n",
       "      <td>893</td>\n",
       "      <td>3</td>\n",
       "      <td>Wilkes, Mrs. James (Ellen Needs)</td>\n",
       "      <td>female</td>\n",
       "      <td>47.000</td>\n",
       "      <td>1</td>\n",
       "      <td>0</td>\n",
       "      <td>363272</td>\n",
       "      <td>7.000</td>\n",
       "      <td>S</td>\n",
       "    </tr>\n",
       "    <tr>\n",
       "      <th>2</th>\n",
       "      <td>894</td>\n",
       "      <td>2</td>\n",
       "      <td>Myles, Mr. Thomas Francis</td>\n",
       "      <td>male</td>\n",
       "      <td>62.000</td>\n",
       "      <td>0</td>\n",
       "      <td>0</td>\n",
       "      <td>240276</td>\n",
       "      <td>9.688</td>\n",
       "      <td>Q</td>\n",
       "    </tr>\n",
       "    <tr>\n",
       "      <th>3</th>\n",
       "      <td>895</td>\n",
       "      <td>3</td>\n",
       "      <td>Wirz, Mr. Albert</td>\n",
       "      <td>male</td>\n",
       "      <td>27.000</td>\n",
       "      <td>0</td>\n",
       "      <td>0</td>\n",
       "      <td>315154</td>\n",
       "      <td>8.662</td>\n",
       "      <td>S</td>\n",
       "    </tr>\n",
       "    <tr>\n",
       "      <th>4</th>\n",
       "      <td>896</td>\n",
       "      <td>3</td>\n",
       "      <td>Hirvonen, Mrs. Alexander (Helga E Lindqvist)</td>\n",
       "      <td>female</td>\n",
       "      <td>22.000</td>\n",
       "      <td>1</td>\n",
       "      <td>1</td>\n",
       "      <td>3101298</td>\n",
       "      <td>12.287</td>\n",
       "      <td>S</td>\n",
       "    </tr>\n",
       "  </tbody>\n",
       "</table>\n",
       "</div>"
      ],
      "text/plain": [
       "   PassengerId  Pclass                                          Name     Sex  \\\n",
       "0          892       3                              Kelly, Mr. James    male   \n",
       "1          893       3              Wilkes, Mrs. James (Ellen Needs)  female   \n",
       "2          894       2                     Myles, Mr. Thomas Francis    male   \n",
       "3          895       3                              Wirz, Mr. Albert    male   \n",
       "4          896       3  Hirvonen, Mrs. Alexander (Helga E Lindqvist)  female   \n",
       "\n",
       "     Age  SibSp  Parch   Ticket   Fare Embarked  \n",
       "0 34.500      0      0   330911  7.829        Q  \n",
       "1 47.000      1      0   363272  7.000        S  \n",
       "2 62.000      0      0   240276  9.688        Q  \n",
       "3 27.000      0      0   315154  8.662        S  \n",
       "4 22.000      1      1  3101298 12.287        S  "
      ]
     },
     "execution_count": 56,
     "metadata": {},
     "output_type": "execute_result"
    }
   ],
   "source": [
    "#Cabin sütunu çıkarıldı.\n",
    "dataframe_test.head()"
   ]
  },
  {
   "cell_type": "code",
   "execution_count": 57,
   "id": "ef688041",
   "metadata": {},
   "outputs": [],
   "source": [
    "mode_Fare = dataframe_test['Fare'].mode()[0]\n",
    "dataframe_test['Fare'].fillna(mode_Fare, inplace=True)"
   ]
  },
  {
   "cell_type": "code",
   "execution_count": 58,
   "id": "38cdf5c7",
   "metadata": {},
   "outputs": [
    {
     "data": {
      "text/plain": [
       "PassengerId    0\n",
       "Pclass         0\n",
       "Name           0\n",
       "Sex            0\n",
       "Age            0\n",
       "SibSp          0\n",
       "Parch          0\n",
       "Ticket         0\n",
       "Fare           0\n",
       "Embarked       0\n",
       "dtype: int64"
      ]
     },
     "execution_count": 58,
     "metadata": {},
     "output_type": "execute_result"
    }
   ],
   "source": [
    "#Verisetimiz de hiç eksik veri kalmadı.\n",
    "dataframe_test.isnull().sum().sort_values(ascending=False)"
   ]
  },
  {
   "cell_type": "code",
   "execution_count": 59,
   "id": "1c16eeaf",
   "metadata": {},
   "outputs": [],
   "source": [
    "#Kişilerin gemiye yalnız binip binmediği bir sütun ekliycem IS_ALONE diye adlandırdım.\n",
    "dataframe_test.loc[((dataframe_test['SibSp'] + dataframe_test['Parch']) > 0), \"IS_ALONE\"] = \"NO\"\n",
    "dataframe_test.loc[((dataframe_test['SibSp'] + dataframe_test['Parch']) == 0), \"IS_ALONE\"] = \"YES\"\n",
    "\n",
    "dataframe.loc[((dataframe['SibSp'] + dataframe['Parch']) > 0), \"IS_ALONE\"] = \"NO\"\n",
    "dataframe.loc[((dataframe['SibSp'] + dataframe['Parch']) == 0), \"IS_ALONE\"] = \"YES\""
   ]
  },
  {
   "cell_type": "code",
   "execution_count": 60,
   "id": "3f2ecdb2",
   "metadata": {},
   "outputs": [
    {
     "data": {
      "text/html": [
       "<div>\n",
       "<style scoped>\n",
       "    .dataframe tbody tr th:only-of-type {\n",
       "        vertical-align: middle;\n",
       "    }\n",
       "\n",
       "    .dataframe tbody tr th {\n",
       "        vertical-align: top;\n",
       "    }\n",
       "\n",
       "    .dataframe thead th {\n",
       "        text-align: right;\n",
       "    }\n",
       "</style>\n",
       "<table border=\"1\" class=\"dataframe\">\n",
       "  <thead>\n",
       "    <tr style=\"text-align: right;\">\n",
       "      <th></th>\n",
       "      <th>PassengerId</th>\n",
       "      <th>Pclass</th>\n",
       "      <th>Name</th>\n",
       "      <th>Sex</th>\n",
       "      <th>Age</th>\n",
       "      <th>SibSp</th>\n",
       "      <th>Parch</th>\n",
       "      <th>Ticket</th>\n",
       "      <th>Fare</th>\n",
       "      <th>Embarked</th>\n",
       "      <th>IS_ALONE</th>\n",
       "    </tr>\n",
       "  </thead>\n",
       "  <tbody>\n",
       "    <tr>\n",
       "      <th>0</th>\n",
       "      <td>892</td>\n",
       "      <td>3</td>\n",
       "      <td>Kelly, Mr. James</td>\n",
       "      <td>male</td>\n",
       "      <td>34.500</td>\n",
       "      <td>0</td>\n",
       "      <td>0</td>\n",
       "      <td>330911</td>\n",
       "      <td>7.829</td>\n",
       "      <td>Q</td>\n",
       "      <td>YES</td>\n",
       "    </tr>\n",
       "    <tr>\n",
       "      <th>1</th>\n",
       "      <td>893</td>\n",
       "      <td>3</td>\n",
       "      <td>Wilkes, Mrs. James (Ellen Needs)</td>\n",
       "      <td>female</td>\n",
       "      <td>47.000</td>\n",
       "      <td>1</td>\n",
       "      <td>0</td>\n",
       "      <td>363272</td>\n",
       "      <td>7.000</td>\n",
       "      <td>S</td>\n",
       "      <td>NO</td>\n",
       "    </tr>\n",
       "    <tr>\n",
       "      <th>2</th>\n",
       "      <td>894</td>\n",
       "      <td>2</td>\n",
       "      <td>Myles, Mr. Thomas Francis</td>\n",
       "      <td>male</td>\n",
       "      <td>62.000</td>\n",
       "      <td>0</td>\n",
       "      <td>0</td>\n",
       "      <td>240276</td>\n",
       "      <td>9.688</td>\n",
       "      <td>Q</td>\n",
       "      <td>YES</td>\n",
       "    </tr>\n",
       "    <tr>\n",
       "      <th>3</th>\n",
       "      <td>895</td>\n",
       "      <td>3</td>\n",
       "      <td>Wirz, Mr. Albert</td>\n",
       "      <td>male</td>\n",
       "      <td>27.000</td>\n",
       "      <td>0</td>\n",
       "      <td>0</td>\n",
       "      <td>315154</td>\n",
       "      <td>8.662</td>\n",
       "      <td>S</td>\n",
       "      <td>YES</td>\n",
       "    </tr>\n",
       "    <tr>\n",
       "      <th>4</th>\n",
       "      <td>896</td>\n",
       "      <td>3</td>\n",
       "      <td>Hirvonen, Mrs. Alexander (Helga E Lindqvist)</td>\n",
       "      <td>female</td>\n",
       "      <td>22.000</td>\n",
       "      <td>1</td>\n",
       "      <td>1</td>\n",
       "      <td>3101298</td>\n",
       "      <td>12.287</td>\n",
       "      <td>S</td>\n",
       "      <td>NO</td>\n",
       "    </tr>\n",
       "  </tbody>\n",
       "</table>\n",
       "</div>"
      ],
      "text/plain": [
       "   PassengerId  Pclass                                          Name     Sex  \\\n",
       "0          892       3                              Kelly, Mr. James    male   \n",
       "1          893       3              Wilkes, Mrs. James (Ellen Needs)  female   \n",
       "2          894       2                     Myles, Mr. Thomas Francis    male   \n",
       "3          895       3                              Wirz, Mr. Albert    male   \n",
       "4          896       3  Hirvonen, Mrs. Alexander (Helga E Lindqvist)  female   \n",
       "\n",
       "     Age  SibSp  Parch   Ticket   Fare Embarked IS_ALONE  \n",
       "0 34.500      0      0   330911  7.829        Q      YES  \n",
       "1 47.000      1      0   363272  7.000        S       NO  \n",
       "2 62.000      0      0   240276  9.688        Q      YES  \n",
       "3 27.000      0      0   315154  8.662        S      YES  \n",
       "4 22.000      1      1  3101298 12.287        S       NO  "
      ]
     },
     "execution_count": 60,
     "metadata": {},
     "output_type": "execute_result"
    }
   ],
   "source": [
    "#Is_Alone sütunlara eklendi ve yes yazanlar gemiye yalnız binenler.\n",
    "dataframe_test.head()"
   ]
  },
  {
   "cell_type": "code",
   "execution_count": 61,
   "id": "9799a13a",
   "metadata": {},
   "outputs": [
    {
     "data": {
      "text/plain": [
       "IS_ALONE\n",
       "YES    253\n",
       "NO     165\n",
       "Name: count, dtype: int64"
      ]
     },
     "execution_count": 61,
     "metadata": {},
     "output_type": "execute_result"
    }
   ],
   "source": [
    "#IS_ALONE sütununda gemiye yalnız binenlerin ve birileriyle binenlerin sayısı.\n",
    "dataframe_test[\"IS_ALONE\"].value_counts()"
   ]
  },
  {
   "cell_type": "code",
   "execution_count": 62,
   "id": "51de7640",
   "metadata": {},
   "outputs": [],
   "source": [
    "#Burda ise familySize diye yeni bir değişken daha atadık nedeni ise no diyen kişilerin kaç kişi ile bindiğini öğrenmek.\n",
    "for dataset in all_data:\n",
    "    dataset[\"FamilySize\"] = dataset['SibSp'] + dataset['Parch'] + 1"
   ]
  },
  {
   "cell_type": "code",
   "execution_count": 63,
   "id": "db0116f8",
   "metadata": {},
   "outputs": [
    {
     "data": {
      "text/html": [
       "<div>\n",
       "<style scoped>\n",
       "    .dataframe tbody tr th:only-of-type {\n",
       "        vertical-align: middle;\n",
       "    }\n",
       "\n",
       "    .dataframe tbody tr th {\n",
       "        vertical-align: top;\n",
       "    }\n",
       "\n",
       "    .dataframe thead th {\n",
       "        text-align: right;\n",
       "    }\n",
       "</style>\n",
       "<table border=\"1\" class=\"dataframe\">\n",
       "  <thead>\n",
       "    <tr style=\"text-align: right;\">\n",
       "      <th></th>\n",
       "      <th>PassengerId</th>\n",
       "      <th>Pclass</th>\n",
       "      <th>Name</th>\n",
       "      <th>Sex</th>\n",
       "      <th>Age</th>\n",
       "      <th>SibSp</th>\n",
       "      <th>Parch</th>\n",
       "      <th>Ticket</th>\n",
       "      <th>Fare</th>\n",
       "      <th>Embarked</th>\n",
       "      <th>IS_ALONE</th>\n",
       "      <th>FamilySize</th>\n",
       "    </tr>\n",
       "  </thead>\n",
       "  <tbody>\n",
       "    <tr>\n",
       "      <th>0</th>\n",
       "      <td>892</td>\n",
       "      <td>3</td>\n",
       "      <td>Kelly, Mr. James</td>\n",
       "      <td>male</td>\n",
       "      <td>34.500</td>\n",
       "      <td>0</td>\n",
       "      <td>0</td>\n",
       "      <td>330911</td>\n",
       "      <td>7.829</td>\n",
       "      <td>Q</td>\n",
       "      <td>YES</td>\n",
       "      <td>1</td>\n",
       "    </tr>\n",
       "    <tr>\n",
       "      <th>1</th>\n",
       "      <td>893</td>\n",
       "      <td>3</td>\n",
       "      <td>Wilkes, Mrs. James (Ellen Needs)</td>\n",
       "      <td>female</td>\n",
       "      <td>47.000</td>\n",
       "      <td>1</td>\n",
       "      <td>0</td>\n",
       "      <td>363272</td>\n",
       "      <td>7.000</td>\n",
       "      <td>S</td>\n",
       "      <td>NO</td>\n",
       "      <td>2</td>\n",
       "    </tr>\n",
       "    <tr>\n",
       "      <th>2</th>\n",
       "      <td>894</td>\n",
       "      <td>2</td>\n",
       "      <td>Myles, Mr. Thomas Francis</td>\n",
       "      <td>male</td>\n",
       "      <td>62.000</td>\n",
       "      <td>0</td>\n",
       "      <td>0</td>\n",
       "      <td>240276</td>\n",
       "      <td>9.688</td>\n",
       "      <td>Q</td>\n",
       "      <td>YES</td>\n",
       "      <td>1</td>\n",
       "    </tr>\n",
       "    <tr>\n",
       "      <th>3</th>\n",
       "      <td>895</td>\n",
       "      <td>3</td>\n",
       "      <td>Wirz, Mr. Albert</td>\n",
       "      <td>male</td>\n",
       "      <td>27.000</td>\n",
       "      <td>0</td>\n",
       "      <td>0</td>\n",
       "      <td>315154</td>\n",
       "      <td>8.662</td>\n",
       "      <td>S</td>\n",
       "      <td>YES</td>\n",
       "      <td>1</td>\n",
       "    </tr>\n",
       "    <tr>\n",
       "      <th>4</th>\n",
       "      <td>896</td>\n",
       "      <td>3</td>\n",
       "      <td>Hirvonen, Mrs. Alexander (Helga E Lindqvist)</td>\n",
       "      <td>female</td>\n",
       "      <td>22.000</td>\n",
       "      <td>1</td>\n",
       "      <td>1</td>\n",
       "      <td>3101298</td>\n",
       "      <td>12.287</td>\n",
       "      <td>S</td>\n",
       "      <td>NO</td>\n",
       "      <td>3</td>\n",
       "    </tr>\n",
       "  </tbody>\n",
       "</table>\n",
       "</div>"
      ],
      "text/plain": [
       "   PassengerId  Pclass                                          Name     Sex  \\\n",
       "0          892       3                              Kelly, Mr. James    male   \n",
       "1          893       3              Wilkes, Mrs. James (Ellen Needs)  female   \n",
       "2          894       2                     Myles, Mr. Thomas Francis    male   \n",
       "3          895       3                              Wirz, Mr. Albert    male   \n",
       "4          896       3  Hirvonen, Mrs. Alexander (Helga E Lindqvist)  female   \n",
       "\n",
       "     Age  SibSp  Parch   Ticket   Fare Embarked IS_ALONE  FamilySize  \n",
       "0 34.500      0      0   330911  7.829        Q      YES           1  \n",
       "1 47.000      1      0   363272  7.000        S       NO           2  \n",
       "2 62.000      0      0   240276  9.688        Q      YES           1  \n",
       "3 27.000      0      0   315154  8.662        S      YES           1  \n",
       "4 22.000      1      1  3101298 12.287        S       NO           3  "
      ]
     },
     "execution_count": 63,
     "metadata": {},
     "output_type": "execute_result"
    }
   ],
   "source": [
    "dataset.head()"
   ]
  },
  {
   "cell_type": "code",
   "execution_count": 64,
   "id": "c358ba5c",
   "metadata": {},
   "outputs": [
    {
     "data": {
      "text/plain": [
       "IS_ALONE  FamilySize\n",
       "YES       1             253\n",
       "NO        2              74\n",
       "          3              57\n",
       "          4              14\n",
       "          5               7\n",
       "          7               4\n",
       "          11              4\n",
       "          6               3\n",
       "          8               2\n",
       "Name: count, dtype: int64"
      ]
     },
     "execution_count": 64,
     "metadata": {},
     "output_type": "execute_result"
    }
   ],
   "source": [
    "#Yalnız katılmayan kişilerin FamilySize'ları ve veri setinde kaç kişilik aileden kaçar kişi olduğu sayısı.\n",
    "dataset.groupby(\"IS_ALONE\")[\"FamilySize\"].value_counts().sort_values(ascending=False)"
   ]
  },
  {
   "cell_type": "code",
   "execution_count": 65,
   "id": "76be1adf",
   "metadata": {},
   "outputs": [
    {
     "data": {
      "text/html": [
       "<div>\n",
       "<style scoped>\n",
       "    .dataframe tbody tr th:only-of-type {\n",
       "        vertical-align: middle;\n",
       "    }\n",
       "\n",
       "    .dataframe tbody tr th {\n",
       "        vertical-align: top;\n",
       "    }\n",
       "\n",
       "    .dataframe thead tr th {\n",
       "        text-align: left;\n",
       "    }\n",
       "\n",
       "    .dataframe thead tr:last-of-type th {\n",
       "        text-align: right;\n",
       "    }\n",
       "</style>\n",
       "<table border=\"1\" class=\"dataframe\">\n",
       "  <thead>\n",
       "    <tr>\n",
       "      <th></th>\n",
       "      <th colspan=\"2\" halign=\"left\">FamilySize</th>\n",
       "    </tr>\n",
       "    <tr>\n",
       "      <th></th>\n",
       "      <th>mean</th>\n",
       "      <th>count</th>\n",
       "    </tr>\n",
       "    <tr>\n",
       "      <th>IS_ALONE</th>\n",
       "      <th></th>\n",
       "      <th></th>\n",
       "    </tr>\n",
       "  </thead>\n",
       "  <tbody>\n",
       "    <tr>\n",
       "      <th>NO</th>\n",
       "      <td>3.127</td>\n",
       "      <td>165</td>\n",
       "    </tr>\n",
       "    <tr>\n",
       "      <th>YES</th>\n",
       "      <td>1.000</td>\n",
       "      <td>253</td>\n",
       "    </tr>\n",
       "  </tbody>\n",
       "</table>\n",
       "</div>"
      ],
      "text/plain": [
       "         FamilySize      \n",
       "               mean count\n",
       "IS_ALONE                 \n",
       "NO            3.127   165\n",
       "YES           1.000   253"
      ]
     },
     "execution_count": 65,
     "metadata": {},
     "output_type": "execute_result"
    }
   ],
   "source": [
    "dataset.groupby(\"IS_ALONE\").agg({\"FamilySize\": [\"mean\",\"count\"]})"
   ]
  },
  {
   "cell_type": "code",
   "execution_count": null,
   "id": "354fbf22-98dd-4e0f-9c3c-66a1e8fa4a83",
   "metadata": {
    "tags": []
   },
   "outputs": [],
   "source": [
    "# Title değişkeninin eklenmesi ve rare encoding"
   ]
  },
  {
   "cell_type": "code",
   "execution_count": 66,
   "id": "8b3c8907-b335-4074-aad9-01c8fb9839fd",
   "metadata": {
    "tags": []
   },
   "outputs": [],
   "source": [
    "for dataset in all_data:\n",
    "    dataset[\"Title\"] = dataset[\"Name\"].str.split(\", \", expand=True)[1].str.split(\".\", expand=True)[0]\n",
    "    \n",
    "    dataset['Title'] = dataset['Title'].replace(['Lady', 'the Countess', 'the Countless','Capt', 'Col','Don', \n",
    "                                                 'Dr', 'Major', 'Rev', 'Sir', 'Jonkheer', 'Dona'], 'Rare')\n",
    "\n",
    "    dataset['Title'] = dataset['Title'].replace('Mlle', 'Miss')\n",
    "    dataset['Title'] = dataset['Title'].replace('Ms', 'Miss')\n",
    "    dataset['Title'] = dataset['Title'].replace('Mme', 'Mrs')\n",
    "    \n",
    "    # Age_bin\n",
    "    dataset['Age_bin'] = pd.cut(dataset['Age'], bins=[0,12,20,40,120], labels=['Children','Teenage','Adult','Elder'])\n",
    "\n",
    "    # Fare_bin\n",
    "    dataset['Fare_bin'] = pd.cut(dataset['Fare'], bins=[0,7.91,14.45,31,120], labels=['Low_fare','median_fare',\n",
    "                                                                                      'Average_fare','high_fare'])\n",
    "    \n",
    "    "
   ]
  },
  {
   "cell_type": "code",
   "execution_count": 67,
   "id": "adb608a3-c0fc-441d-97e3-1a1b20b8858a",
   "metadata": {
    "tags": []
   },
   "outputs": [
    {
     "data": {
      "text/html": [
       "<div>\n",
       "<style scoped>\n",
       "    .dataframe tbody tr th:only-of-type {\n",
       "        vertical-align: middle;\n",
       "    }\n",
       "\n",
       "    .dataframe tbody tr th {\n",
       "        vertical-align: top;\n",
       "    }\n",
       "\n",
       "    .dataframe thead th {\n",
       "        text-align: right;\n",
       "    }\n",
       "</style>\n",
       "<table border=\"1\" class=\"dataframe\">\n",
       "  <thead>\n",
       "    <tr style=\"text-align: right;\">\n",
       "      <th></th>\n",
       "      <th>PassengerId</th>\n",
       "      <th>Pclass</th>\n",
       "      <th>Name</th>\n",
       "      <th>Sex</th>\n",
       "      <th>Age</th>\n",
       "      <th>SibSp</th>\n",
       "      <th>Parch</th>\n",
       "      <th>Ticket</th>\n",
       "      <th>Fare</th>\n",
       "      <th>Embarked</th>\n",
       "      <th>IS_ALONE</th>\n",
       "      <th>FamilySize</th>\n",
       "      <th>Title</th>\n",
       "      <th>Age_bin</th>\n",
       "      <th>Fare_bin</th>\n",
       "    </tr>\n",
       "  </thead>\n",
       "  <tbody>\n",
       "    <tr>\n",
       "      <th>0</th>\n",
       "      <td>892</td>\n",
       "      <td>3</td>\n",
       "      <td>Kelly, Mr. James</td>\n",
       "      <td>male</td>\n",
       "      <td>34.500</td>\n",
       "      <td>0</td>\n",
       "      <td>0</td>\n",
       "      <td>330911</td>\n",
       "      <td>7.829</td>\n",
       "      <td>Q</td>\n",
       "      <td>YES</td>\n",
       "      <td>1</td>\n",
       "      <td>Mr</td>\n",
       "      <td>Adult</td>\n",
       "      <td>Low_fare</td>\n",
       "    </tr>\n",
       "  </tbody>\n",
       "</table>\n",
       "</div>"
      ],
      "text/plain": [
       "   PassengerId  Pclass              Name   Sex    Age  SibSp  Parch  Ticket  \\\n",
       "0          892       3  Kelly, Mr. James  male 34.500      0      0  330911   \n",
       "\n",
       "   Fare Embarked IS_ALONE  FamilySize Title Age_bin  Fare_bin  \n",
       "0 7.829        Q      YES           1    Mr   Adult  Low_fare  "
      ]
     },
     "execution_count": 67,
     "metadata": {},
     "output_type": "execute_result"
    }
   ],
   "source": [
    "dataset.head(1)"
   ]
  },
  {
   "cell_type": "code",
   "execution_count": 68,
   "id": "c427b2eb-0a95-424e-b374-f7d0c49c3b5d",
   "metadata": {
    "tags": []
   },
   "outputs": [
    {
     "data": {
      "text/html": [
       "<div>\n",
       "<style scoped>\n",
       "    .dataframe tbody tr th:only-of-type {\n",
       "        vertical-align: middle;\n",
       "    }\n",
       "\n",
       "    .dataframe tbody tr th {\n",
       "        vertical-align: top;\n",
       "    }\n",
       "\n",
       "    .dataframe thead th {\n",
       "        text-align: right;\n",
       "    }\n",
       "</style>\n",
       "<table border=\"1\" class=\"dataframe\">\n",
       "  <thead>\n",
       "    <tr style=\"text-align: right;\">\n",
       "      <th></th>\n",
       "      <th>PassengerId</th>\n",
       "      <th>Survived</th>\n",
       "      <th>Pclass</th>\n",
       "      <th>Name</th>\n",
       "      <th>Sex</th>\n",
       "      <th>Age</th>\n",
       "      <th>SibSp</th>\n",
       "      <th>Parch</th>\n",
       "      <th>Ticket</th>\n",
       "      <th>Fare</th>\n",
       "      <th>Embarked</th>\n",
       "      <th>IS_ALONE</th>\n",
       "      <th>FamilySize</th>\n",
       "      <th>Title</th>\n",
       "      <th>Age_bin</th>\n",
       "      <th>Fare_bin</th>\n",
       "    </tr>\n",
       "  </thead>\n",
       "  <tbody>\n",
       "    <tr>\n",
       "      <th>0</th>\n",
       "      <td>1</td>\n",
       "      <td>0</td>\n",
       "      <td>3</td>\n",
       "      <td>Braund, Mr. Owen Harris</td>\n",
       "      <td>male</td>\n",
       "      <td>22.000</td>\n",
       "      <td>1</td>\n",
       "      <td>0</td>\n",
       "      <td>A/5 21171</td>\n",
       "      <td>7.250</td>\n",
       "      <td>S</td>\n",
       "      <td>NO</td>\n",
       "      <td>2</td>\n",
       "      <td>Mr</td>\n",
       "      <td>Adult</td>\n",
       "      <td>Low_fare</td>\n",
       "    </tr>\n",
       "    <tr>\n",
       "      <th>1</th>\n",
       "      <td>2</td>\n",
       "      <td>1</td>\n",
       "      <td>1</td>\n",
       "      <td>Cumings, Mrs. John Bradley (Florence Briggs Th...</td>\n",
       "      <td>female</td>\n",
       "      <td>38.000</td>\n",
       "      <td>1</td>\n",
       "      <td>0</td>\n",
       "      <td>PC 17599</td>\n",
       "      <td>71.283</td>\n",
       "      <td>C</td>\n",
       "      <td>NO</td>\n",
       "      <td>2</td>\n",
       "      <td>Mrs</td>\n",
       "      <td>Adult</td>\n",
       "      <td>high_fare</td>\n",
       "    </tr>\n",
       "  </tbody>\n",
       "</table>\n",
       "</div>"
      ],
      "text/plain": [
       "   PassengerId  Survived  Pclass  \\\n",
       "0            1         0       3   \n",
       "1            2         1       1   \n",
       "\n",
       "                                                Name     Sex    Age  SibSp  \\\n",
       "0                            Braund, Mr. Owen Harris    male 22.000      1   \n",
       "1  Cumings, Mrs. John Bradley (Florence Briggs Th...  female 38.000      1   \n",
       "\n",
       "   Parch     Ticket   Fare Embarked IS_ALONE  FamilySize Title Age_bin  \\\n",
       "0      0  A/5 21171  7.250        S       NO           2    Mr   Adult   \n",
       "1      0   PC 17599 71.283        C       NO           2   Mrs   Adult   \n",
       "\n",
       "    Fare_bin  \n",
       "0   Low_fare  \n",
       "1  high_fare  "
      ]
     },
     "execution_count": 68,
     "metadata": {},
     "output_type": "execute_result"
    }
   ],
   "source": [
    "dataframe.head(2)"
   ]
  },
  {
   "cell_type": "code",
   "execution_count": 69,
   "id": "5be36d5a",
   "metadata": {
    "tags": []
   },
   "outputs": [],
   "source": [
    "cat_cols = [\"Pclass\", \"Sex\", \"SibSp\", \"Embarked\", \"FamilySize\", \"Title\", \"Age_bin\", \"Fare_bin\",\"IS_ALONE\"]\n",
    "\n",
    "def one_hot_encoder(dataframe, categorical_cols, drop_first=True):\n",
    "    dataframe = pd.get_dummies(dataframe, columns = categorical_cols, drop_first=drop_first)\n",
    "    return dataframe\n",
    "\n",
    "dataframe = one_hot_encoder(dataframe, cat_cols, drop_first=True)\n",
    "\n",
    "y = dataframe[\"Survived\"]\n",
    "X = dataframe.drop([\"Survived\"], axis=1)"
   ]
  },
  {
   "cell_type": "code",
   "execution_count": 70,
   "id": "3d65df09-0ddc-451f-a8c8-2bb52020d429",
   "metadata": {
    "tags": []
   },
   "outputs": [],
   "source": [
    "X = X.drop([\"PassengerId\", \"Name\", \"Ticket\"], axis = 1)"
   ]
  },
  {
   "cell_type": "code",
   "execution_count": null,
   "id": "9f6d644f-1aa1-42bf-9142-73cfdd22be39",
   "metadata": {
    "tags": []
   },
   "outputs": [],
   "source": [
    "# Base model"
   ]
  },
  {
   "cell_type": "code",
   "execution_count": 72,
   "id": "6c0c8fa0-67c8-47b1-8fb7-eaa3fb692c23",
   "metadata": {
    "tags": []
   },
   "outputs": [],
   "source": [
    "from sklearn.ensemble import RandomForestClassifier\n",
    "from sklearn.model_selection import cross_validate, GridSearchCV\n",
    "from sklearn.preprocessing import StandardScaler, RobustScaler"
   ]
  },
  {
   "cell_type": "code",
   "execution_count": 73,
   "id": "560592e3-ce64-4df8-b5b7-1b11a6a88476",
   "metadata": {
    "tags": []
   },
   "outputs": [
    {
     "name": "stdout",
     "output_type": "stream",
     "text": [
      "Base model...\n",
      "accuracy:  {0.7969} (RandomForest)\n"
     ]
    }
   ],
   "source": [
    "print(\"Base model...\")\n",
    "cv_results = cross_validate(RandomForestClassifier(random_state=8), X, y, cv=10, scoring=\"accuracy\")\n",
    "print(\"accuracy: \", {round(cv_results['test_score'].mean(), 4)}, \"(RandomForest)\")"
   ]
  },
  {
   "cell_type": "code",
   "execution_count": 74,
   "id": "337c405e-8c70-44dd-98a8-d65bb2f806b2",
   "metadata": {
    "tags": []
   },
   "outputs": [],
   "source": [
    "# Hiperparametre optimizasyonu"
   ]
  },
  {
   "cell_type": "code",
   "execution_count": 75,
   "id": "6dde6b2d-475b-4b36-af89-52b295b74bbe",
   "metadata": {
    "tags": []
   },
   "outputs": [
    {
     "name": "stdout",
     "output_type": "stream",
     "text": [
      "Before hyperparameter optimization / accuracy:  0.7969 (RandomForest)\n",
      "After hyperparameter optimization / accuracy: 0.8508 (RandomForest) \n"
     ]
    }
   ],
   "source": [
    "print(\"Before hyperparameter optimization / accuracy: \", round(cv_results['test_score'].mean(), 4), \"(RandomForest)\")\n",
    "rf_params = {\n",
    "    'bootstrap': [True],\n",
    "    'max_depth': [9, 8, 7],\n",
    "    'max_features': [30, 25, 20],\n",
    "    'min_samples_leaf': [1],\n",
    "    'min_samples_split': [5, 8, 10],\n",
    "    'n_estimators': [500, 700]\n",
    "}\n",
    "\n",
    "random_forest = RandomForestClassifier(random_state=78)\n",
    "\n",
    "gs_best = GridSearchCV(random_forest, rf_params, cv=10, n_jobs=-1, verbose=False).fit(X, y)\n",
    "final_model = random_forest.set_params(**gs_best.best_params_)\n",
    "\n",
    "cv_results = cross_validate(random_forest, X, y, cv=10, scoring=\"accuracy\")\n",
    "print(f\"After hyperparameter optimization / accuracy: {round(cv_results['test_score'].mean(), 4)} (RandomForest) \")"
   ]
  },
  {
   "cell_type": "code",
   "execution_count": 76,
   "id": "4cffebf0-2cbc-495d-9fe3-6d7578b12f9a",
   "metadata": {
    "tags": []
   },
   "outputs": [
    {
     "data": {
      "text/plain": [
       "{'bootstrap': True,\n",
       " 'max_depth': 8,\n",
       " 'max_features': 30,\n",
       " 'min_samples_leaf': 1,\n",
       " 'min_samples_split': 8,\n",
       " 'n_estimators': 700}"
      ]
     },
     "execution_count": 76,
     "metadata": {},
     "output_type": "execute_result"
    }
   ],
   "source": [
    "gs_best.best_params_"
   ]
  },
  {
   "cell_type": "code",
   "execution_count": 77,
   "id": "294f780a-89b9-4109-a5a9-8b7651a61e92",
   "metadata": {
    "tags": []
   },
   "outputs": [],
   "source": [
    "# Submission"
   ]
  },
  {
   "cell_type": "code",
   "execution_count": 80,
   "id": "5032156b-ff9c-409e-b034-7e920a94dc49",
   "metadata": {
    "tags": []
   },
   "outputs": [],
   "source": [
    "ids = pd.read_csv(\"test.csv\")\n",
    "ids = ids[\"PassengerId\"]"
   ]
  },
  {
   "cell_type": "code",
   "execution_count": 81,
   "id": "af9bab2d-45fe-40c4-af2b-5ad9cc7ccbe4",
   "metadata": {
    "tags": []
   },
   "outputs": [
    {
     "data": {
      "text/html": [
       "<div>\n",
       "<style scoped>\n",
       "    .dataframe tbody tr th:only-of-type {\n",
       "        vertical-align: middle;\n",
       "    }\n",
       "\n",
       "    .dataframe tbody tr th {\n",
       "        vertical-align: top;\n",
       "    }\n",
       "\n",
       "    .dataframe thead th {\n",
       "        text-align: right;\n",
       "    }\n",
       "</style>\n",
       "<table border=\"1\" class=\"dataframe\">\n",
       "  <thead>\n",
       "    <tr style=\"text-align: right;\">\n",
       "      <th></th>\n",
       "      <th>PassengerId</th>\n",
       "      <th>Pclass</th>\n",
       "      <th>Name</th>\n",
       "      <th>Sex</th>\n",
       "      <th>Age</th>\n",
       "      <th>SibSp</th>\n",
       "      <th>Parch</th>\n",
       "      <th>Ticket</th>\n",
       "      <th>Fare</th>\n",
       "      <th>Embarked</th>\n",
       "      <th>IS_ALONE</th>\n",
       "      <th>FamilySize</th>\n",
       "      <th>Title</th>\n",
       "      <th>Age_bin</th>\n",
       "      <th>Fare_bin</th>\n",
       "    </tr>\n",
       "  </thead>\n",
       "  <tbody>\n",
       "    <tr>\n",
       "      <th>0</th>\n",
       "      <td>892</td>\n",
       "      <td>3</td>\n",
       "      <td>Kelly, Mr. James</td>\n",
       "      <td>male</td>\n",
       "      <td>34.500</td>\n",
       "      <td>0</td>\n",
       "      <td>0</td>\n",
       "      <td>330911</td>\n",
       "      <td>7.829</td>\n",
       "      <td>Q</td>\n",
       "      <td>YES</td>\n",
       "      <td>1</td>\n",
       "      <td>Mr</td>\n",
       "      <td>Adult</td>\n",
       "      <td>Low_fare</td>\n",
       "    </tr>\n",
       "  </tbody>\n",
       "</table>\n",
       "</div>"
      ],
      "text/plain": [
       "   PassengerId  Pclass              Name   Sex    Age  SibSp  Parch  Ticket  \\\n",
       "0          892       3  Kelly, Mr. James  male 34.500      0      0  330911   \n",
       "\n",
       "   Fare Embarked IS_ALONE  FamilySize Title Age_bin  Fare_bin  \n",
       "0 7.829        Q      YES           1    Mr   Adult  Low_fare  "
      ]
     },
     "execution_count": 81,
     "metadata": {},
     "output_type": "execute_result"
    }
   ],
   "source": [
    "dataframe_test.head(1)"
   ]
  },
  {
   "cell_type": "code",
   "execution_count": null,
   "id": "f9c44491-0ebe-480b-ad22-4c4f29d2b28c",
   "metadata": {
    "tags": []
   },
   "outputs": [],
   "source": [
    "dataframe_test = dataframe_test.drop([\"PassengerId\", \"Name\", \"Ticket\"], axis = 1)"
   ]
  },
  {
   "cell_type": "code",
   "execution_count": null,
   "id": "649415c1-8d6c-4637-92ce-41ca9971c52e",
   "metadata": {
    "tags": []
   },
   "outputs": [],
   "source": [
    "def one_hot_encoder_test(dataframe, categorical_cols, drop_first=True):\n",
    "    dataframe = pd.get_dummies(dataframe, columns = categorical_cols, drop_first=drop_first)\n",
    "    return dataframe\n",
    "\n",
    "X_val = one_hot_encoder(dataframe_test, cat_cols, drop_first=True)"
   ]
  },
  {
   "cell_type": "code",
   "execution_count": null,
   "id": "ac2ec29a-6d8a-4503-bc44-5518ed168b34",
   "metadata": {
    "tags": []
   },
   "outputs": [],
   "source": [
    "final_model.fit(X, y)\n",
    "predictions = random_forest.predict(X_val)"
   ]
  },
  {
   "cell_type": "code",
   "execution_count": null,
   "id": "3de1d108-9299-4722-85fc-255c4070ae4a",
   "metadata": {
    "tags": []
   },
   "outputs": [],
   "source": [
    "output = pd.DataFrame({ 'PassengerId' : ids, 'Survived': predictions })\n",
    "output.to_csv('VBT_submission.csv', index=False)"
   ]
  },
  {
   "cell_type": "code",
   "execution_count": null,
   "id": "9bfa293c-3c64-480a-84b8-b777cdec800e",
   "metadata": {},
   "outputs": [],
   "source": []
  }
 ],
 "metadata": {
  "kernelspec": {
   "display_name": "Python 3 (ipykernel)",
   "language": "python",
   "name": "python3"
  },
  "language_info": {
   "codemirror_mode": {
    "name": "ipython",
    "version": 3
   },
   "file_extension": ".py",
   "mimetype": "text/x-python",
   "name": "python",
   "nbconvert_exporter": "python",
   "pygments_lexer": "ipython3",
   "version": "3.11.4"
  }
 },
 "nbformat": 4,
 "nbformat_minor": 5
}
